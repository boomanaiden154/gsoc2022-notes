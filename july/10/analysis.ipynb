{
 "cells": [
  {
   "cell_type": "code",
   "execution_count": 1,
   "metadata": {},
   "outputs": [],
   "source": [
    "import sys\n",
    "\n",
    "sys.path.insert(0, \"../../june/9\")\n",
    "sys.path.insert(0, \"../../june/15\")\n",
    "\n",
    "import compare_results\n",
    "import load_benchmarks"
   ]
  },
  {
   "cell_type": "code",
   "execution_count": 10,
   "metadata": {},
   "outputs": [],
   "source": [
    "fileMaps = {}\n",
    "files = [\"./baseline-llvm.json\", \"./instruction-indices-llvm.json\", \"./current-structure-chromium-llvm.json\"]\n",
    "parametersOfInterest = [\"instructions\",\"loads\",\"stores\"]\n",
    "for POI in parametersOfInterest:\n",
    "    fileMaps[POI] = {}\n",
    "    for file in files:\n",
    "        fileMaps[POI][file] = load_benchmarks.getResultMap(load_benchmarks.loadBenchmark(file), POI)"
   ]
  },
  {
   "cell_type": "code",
   "execution_count": 11,
   "metadata": {},
   "outputs": [
    {
     "name": "stdout",
     "output_type": "stream",
     "text": [
      "{'instructions': 1.005370944619836, 'stores': 1.0337339033529827, 'loads': 1.0124631733113505}\n"
     ]
    }
   ],
   "source": [
    "comparison1File1 = \"./baseline-llvm.json\"\n",
    "comparison1File2 = \"./instruction-indices-llvm.json\"\n",
    "comparison1comparisons = {\n",
    "    \"instructions\": compare_results.constructComparisons(fileMaps[\"instructions\"][comparison1File1], fileMaps[\"instructions\"][comparison1File2]),\n",
    "    \"stores\": compare_results.constructComparisons(fileMaps[\"stores\"][comparison1File1], fileMaps[\"stores\"][comparison1File2]),\n",
    "    \"loads\": compare_results.constructComparisons(fileMaps[\"loads\"][comparison1File1], fileMaps[\"loads\"][comparison1File2]),\n",
    "}\n",
    "comparison1 = {\n",
    "    \"instructions\": compare_results.calculateAverageChange(comparison1comparisons[\"instructions\"]),\n",
    "    \"stores\": compare_results.calculateAverageChange(comparison1comparisons[\"stores\"]),\n",
    "    \"loads\": compare_results.calculateAverageChange(comparison1comparisons[\"loads\"])\n",
    "}\n",
    "print(comparison1)"
   ]
  },
  {
   "cell_type": "code",
   "execution_count": 12,
   "metadata": {},
   "outputs": [
    {
     "name": "stdout",
     "output_type": "stream",
     "text": [
      "{'instructions': 1.0037833877102578, 'stores': 1.029894370222849, 'loads': 1.0058429528255424}\n"
     ]
    }
   ],
   "source": [
    "comparison1File1 = \"./baseline-llvm.json\"\n",
    "comparison1File2 = \"./current-structure-chromium-llvm.json\"\n",
    "comparison1comparisons = {\n",
    "    \"instructions\": compare_results.constructComparisons(fileMaps[\"instructions\"][comparison1File1], fileMaps[\"instructions\"][comparison1File2]),\n",
    "    \"stores\": compare_results.constructComparisons(fileMaps[\"stores\"][comparison1File1], fileMaps[\"stores\"][comparison1File2]),\n",
    "    \"loads\": compare_results.constructComparisons(fileMaps[\"loads\"][comparison1File1], fileMaps[\"loads\"][comparison1File2]),\n",
    "}\n",
    "comparison1 = {\n",
    "    \"instructions\": compare_results.calculateAverageChange(comparison1comparisons[\"instructions\"]),\n",
    "    \"stores\": compare_results.calculateAverageChange(comparison1comparisons[\"stores\"]),\n",
    "    \"loads\": compare_results.calculateAverageChange(comparison1comparisons[\"loads\"])\n",
    "}\n",
    "print(comparison1)"
   ]
  }
 ],
 "metadata": {
  "kernelspec": {
   "display_name": "Python 3.10.4 64-bit",
   "language": "python",
   "name": "python3"
  },
  "language_info": {
   "codemirror_mode": {
    "name": "ipython",
    "version": 3
   },
   "file_extension": ".py",
   "mimetype": "text/x-python",
   "name": "python",
   "nbconvert_exporter": "python",
   "pygments_lexer": "ipython3",
   "version": "3.8.10"
  },
  "orig_nbformat": 4,
  "vscode": {
   "interpreter": {
    "hash": "916dbcbb3f70747c44a77c7bcd40155683ae19c65e1c03b4aa3499c5328201f1"
   }
  }
 },
 "nbformat": 4,
 "nbformat_minor": 2
}
