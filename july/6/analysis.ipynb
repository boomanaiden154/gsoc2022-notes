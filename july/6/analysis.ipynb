{
 "cells": [
  {
   "cell_type": "code",
   "execution_count": 6,
   "metadata": {},
   "outputs": [],
   "source": [
    "import sys\n",
    "\n",
    "sys.path.insert(0, \"../../june/9\")\n",
    "sys.path.insert(0, \"../../june/15\")\n",
    "\n",
    "import compare_results\n",
    "import load_benchmarks"
   ]
  },
  {
   "cell_type": "code",
   "execution_count": 11,
   "metadata": {},
   "outputs": [],
   "source": [
    "fileMaps = {}\n",
    "files = [\"./llvm-benchmarks/baseline.json\", \"./llvm-benchmarks/current_model.json\", \"./llvm-benchmarks/chromium_model.json\"]\n",
    "parametersOfInterest = [\"instructions\",\"loads\",\"stores\"]\n",
    "for POI in parametersOfInterest:\n",
    "    fileMaps[POI] = {}\n",
    "    for file in files:\n",
    "        fileMaps[POI][file] = load_benchmarks.getResultMap(load_benchmarks.loadBenchmark(file), POI)"
   ]
  },
  {
   "cell_type": "code",
   "execution_count": 12,
   "metadata": {},
   "outputs": [
    {
     "name": "stdout",
     "output_type": "stream",
     "text": [
      "{'instructions': 0.9975903257925867, 'stores': 1.0110438858353565, 'loads': 0.9858601011462409}\n"
     ]
    }
   ],
   "source": [
    "comparison1File1 = \"./llvm-benchmarks/baseline.json\"\n",
    "comparison1File2 = \"./llvm-benchmarks/current_model.json\"\n",
    "comparison1comparisons = {\n",
    "    \"instructions\": compare_results.constructComparisons(fileMaps[\"instructions\"][comparison1File1], fileMaps[\"instructions\"][comparison1File2]),\n",
    "    \"stores\": compare_results.constructComparisons(fileMaps[\"stores\"][comparison1File1], fileMaps[\"stores\"][comparison1File2]),\n",
    "    \"loads\": compare_results.constructComparisons(fileMaps[\"loads\"][comparison1File1], fileMaps[\"loads\"][comparison1File2]),\n",
    "}\n",
    "comparison1 = {\n",
    "    \"instructions\": compare_results.calculateAverageChange(comparison1comparisons[\"instructions\"]),\n",
    "    \"stores\": compare_results.calculateAverageChange(comparison1comparisons[\"stores\"]),\n",
    "    \"loads\": compare_results.calculateAverageChange(comparison1comparisons[\"loads\"])\n",
    "}\n",
    "print(comparison1)"
   ]
  },
  {
   "cell_type": "markdown",
   "metadata": {},
   "source": [
    "### Conclusions - Baseline current model comparison\n",
    "\n",
    "The current model is still doing a pretty good job at reducing loads and even instructions overall even though this corpus might be somewhat different than the one it was trained on."
   ]
  },
  {
   "cell_type": "code",
   "execution_count": 13,
   "metadata": {},
   "outputs": [
    {
     "name": "stdout",
     "output_type": "stream",
     "text": [
      "{'instructions': 0.9983970256521576, 'stores': 1.0046708519694276, 'loads': 1.0005557829532152}\n"
     ]
    }
   ],
   "source": [
    "comparison2File1 = \"./llvm-benchmarks/baseline.json\"\n",
    "comparison2File2 = \"./llvm-benchmarks/chromium_model.json\"\n",
    "comparison2comparisons = {\n",
    "    \"instructions\": compare_results.constructComparisons(fileMaps[\"instructions\"][comparison2File1], fileMaps[\"instructions\"][comparison2File2]),\n",
    "    \"stores\": compare_results.constructComparisons(fileMaps[\"stores\"][comparison2File1], fileMaps[\"stores\"][comparison2File2]),\n",
    "    \"loads\": compare_results.constructComparisons(fileMaps[\"loads\"][comparison2File1], fileMaps[\"loads\"][comparison2File2]),\n",
    "}\n",
    "comparison2 = {\n",
    "    \"instructions\": compare_results.calculateAverageChange(comparison2comparisons[\"instructions\"]),\n",
    "    \"stores\": compare_results.calculateAverageChange(comparison2comparisons[\"stores\"]),\n",
    "    \"loads\": compare_results.calculateAverageChange(comparison2comparisons[\"loads\"])\n",
    "}\n",
    "print(comparison2)"
   ]
  },
  {
   "cell_type": "markdown",
   "metadata": {},
   "source": [
    "No large performance regression over baseline and even a slight reduction in instructions, but still no performance improvement, which is definitely somewhat frustrating. Still some more work needed and maybe even some debugging on the training process."
   ]
  }
 ],
 "metadata": {
  "interpreter": {
   "hash": "e7370f93d1d0cde622a1f8e1c04877d8463912d04d973331ad4851f04de6915a"
  },
  "kernelspec": {
   "display_name": "Python 3.8.10 64-bit",
   "language": "python",
   "name": "python3"
  },
  "language_info": {
   "codemirror_mode": {
    "name": "ipython",
    "version": 3
   },
   "file_extension": ".py",
   "mimetype": "text/x-python",
   "name": "python",
   "nbconvert_exporter": "python",
   "pygments_lexer": "ipython3",
   "version": "3.10.5"
  },
  "orig_nbformat": 4
 },
 "nbformat": 4,
 "nbformat_minor": 2
}
