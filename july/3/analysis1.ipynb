{
 "cells": [
  {
   "cell_type": "code",
   "execution_count": 41,
   "metadata": {},
   "outputs": [],
   "source": [
    "import sys\n",
    "\n",
    "sys.path.append(\"../1\")\n",
    "\n",
    "import compare_benchmarks\n",
    "\n",
    "from matplotlib import pyplot"
   ]
  },
  {
   "cell_type": "code",
   "execution_count": 42,
   "metadata": {},
   "outputs": [
    {
     "name": "stdout",
     "output_type": "stream",
     "text": [
      "['base_perftests', 'blink_heap_perftests', 'blink_platform_perftests', 'cc_perftests', 'components_perftests', 'command_buffer_perftests', 'dawn_perf_tests', 'gpu_perftests', 'load_library_perf_tests', 'net_perftests', 'browser_tests', 'services_perftests', 'sync_performance_tests', 'tracing_perftests', 'views_perftests', 'viz_perftests']\n"
     ]
    }
   ],
   "source": [
    "testList = []\n",
    "with open(\"../2/tests.txt\") as testsListFile:\n",
    "    testList = testsListFile.readlines()\n",
    "    testList = [test.rstrip() for test in testList]\n",
    "print(testList)"
   ]
  },
  {
   "cell_type": "code",
   "execution_count": 43,
   "metadata": {},
   "outputs": [],
   "source": [
    "testsMapping = {}\n",
    "for test in testList:\n",
    "    testsMapping[test] = []\n",
    "    for i in range(1,6):\n",
    "        testsMapping[test].append(test + \".\" + str(i) + \".json\")"
   ]
  },
  {
   "cell_type": "code",
   "execution_count": 44,
   "metadata": {},
   "outputs": [],
   "source": [
    "loadedTestMapping = {}\n",
    "for test in testsMapping:\n",
    "    loadedTestMapping[test] = []\n",
    "    for testInstance in testsMapping[test]:\n",
    "        loadedTestMapping[test].append(compare_benchmarks.load_benchmarks(\"./test-output/\" + testInstance))"
   ]
  },
  {
   "cell_type": "code",
   "execution_count": 45,
   "metadata": {},
   "outputs": [],
   "source": [
    "loadTestComparisons = {}\n",
    "for test in loadedTestMapping:\n",
    "    loadTestComparisons[test] = []\n",
    "    for testInstance in loadedTestMapping[test][1:]:\n",
    "        loadTestComparisons[test].append(compare_benchmarks.per_test_comparison(loadedTestMapping[test][0], testInstance))"
   ]
  },
  {
   "cell_type": "code",
   "execution_count": 46,
   "metadata": {},
   "outputs": [],
   "source": [
    "testComparisonsAverages = {}\n",
    "for test in loadTestComparisons:\n",
    "    testComparisonsAverages[test] = []\n",
    "    for testInstance in loadTestComparisons[test]:\n",
    "        testComparisonsAverages[test].append(compare_benchmarks.get_average_speedup(testInstance))"
   ]
  },
  {
   "cell_type": "code",
   "execution_count": 47,
   "metadata": {},
   "outputs": [
    {
     "name": "stdout",
     "output_type": "stream",
     "text": [
      "dict_keys(['base_perftests', 'blink_heap_perftests', 'blink_platform_perftests', 'cc_perftests', 'components_perftests', 'command_buffer_perftests', 'dawn_perf_tests', 'gpu_perftests', 'load_library_perf_tests', 'net_perftests', 'browser_tests', 'services_perftests', 'sync_performance_tests', 'tracing_perftests', 'views_perftests', 'viz_perftests'])\n"
     ]
    }
   ],
   "source": [
    "print(testComparisonsAverages.keys())"
   ]
  },
  {
   "cell_type": "code",
   "execution_count": 52,
   "metadata": {},
   "outputs": [
    {
     "name": "stdout",
     "output_type": "stream",
     "text": [
      "dict_keys(['mem_uops_retired.all_loads', 'mem_uops_retired.all_stores'])\n"
     ]
    },
    {
     "data": {
      "image/png": "[encoded data removed]",
      "text/plain": [
       "<Figure size 432x288 with 1 Axes>"
      ]
     },
     "metadata": {
      "needs_background": "light"
     },
     "output_type": "display_data"
    }
   ],
   "source": [
    "allTestMetrics = {}\n",
    "for test in testComparisonsAverages:\n",
    "    allTestMetrics[test] = {}\n",
    "    for testInstance in testComparisonsAverages[test]:\n",
    "        for metric in testInstance:\n",
    "            if metric not in allTestMetrics[test]:\n",
    "                allTestMetrics[test][metric] = []\n",
    "            allTestMetrics[test][metric].append(testInstance[metric])\n",
    "print(metrics.keys())\n",
    "figure, axis = pyplot.subplots()\n",
    "axis.boxplot(metrics.values())\n",
    "axis.set_xticklabels(metrics.keys())\n",
    "pyplot.show()"
   ]
  },
  {
   "cell_type": "code",
   "execution_count": null,
   "metadata": {},
   "outputs": [],
   "source": []
  }
 ],
 "metadata": {
  "interpreter": {
   "hash": "e7370f93d1d0cde622a1f8e1c04877d8463912d04d973331ad4851f04de6915a"
  },
  "kernelspec": {
   "display_name": "Python 3.8.10 64-bit",
   "language": "python",
   "name": "python3"
  },
  "language_info": {
   "codemirror_mode": {
    "name": "ipython",
    "version": 3
   },
   "file_extension": ".py",
   "mimetype": "text/x-python",
   "name": "python",
   "nbconvert_exporter": "python",
   "pygments_lexer": "ipython3",
   "version": "3.10.5"
  },
  "orig_nbformat": 4
 },
 "nbformat": 4,
 "nbformat_minor": 2
}
