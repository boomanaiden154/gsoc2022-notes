{
 "cells": [
  {
   "cell_type": "code",
   "execution_count": 1,
   "id": "1b4674c4",
   "metadata": {},
   "outputs": [],
   "source": [
    "import sys\n",
    "\n",
    "sys.path.insert(0, \"../../9\")\n",
    "\n",
    "import compare_results\n",
    "import process_execution_time_results\n",
    "\n",
    "from matplotlib import pyplot"
   ]
  },
  {
   "cell_type": "code",
   "execution_count": 2,
   "id": "62e616de",
   "metadata": {},
   "outputs": [
    {
     "name": "stdout",
     "output_type": "stream",
     "text": [
      "475\n",
      "475\n",
      "475\n",
      "475\n",
      "475\n",
      "475\n",
      "475\n",
      "475\n",
      "475\n",
      "475\n",
      "475\n",
      "475\n",
      "475\n",
      "475\n",
      "475\n",
      "475\n",
      "475\n",
      "475\n",
      "475\n",
      "475\n",
      "475\n",
      "475\n",
      "475\n",
      "475\n",
      "475\n",
      "475\n",
      "475\n",
      "475\n",
      "475\n",
      "475\n",
      "475\n"
     ]
    }
   ],
   "source": [
    "fileData = {}\n",
    "for i in range(0,31):\n",
    "    fileName = \"results\" + str(i) + \".json\"\n",
    "    fileData[fileName] = process_execution_time_results.getExecutionTimes(fileName)\n",
    "fileMaps = {}\n",
    "for file in fileData:\n",
    "    newMap = {}\n",
    "    for sample in fileData[file]:\n",
    "        testName, executionTime = sample\n",
    "        newMap[testName] = executionTime\n",
    "    fileMaps[file] = newMap"
   ]
  },
  {
   "cell_type": "code",
   "execution_count": 3,
   "id": "4cfcdd12",
   "metadata": {},
   "outputs": [],
   "source": [
    "comparisons = []\n",
    "baseFileName = \"results0.json\"\n",
    "for i in range(1,31):\n",
    "    fileName = \"results\" + str(i) + \".json\"\n",
    "    comparisons.append(compare_results.constructComparisons(fileMaps[baseFileName],fileMaps[fileName]))"
   ]
  },
  {
   "cell_type": "code",
   "execution_count": 4,
   "id": "8296a26c",
   "metadata": {},
   "outputs": [
    {
     "name": "stdout",
     "output_type": "stream",
     "text": [
      "[1.0870387127798113, 1.0373773025989228, 1.0437428910896478, 1.0394204804751936, 1.0816767780544425, 1.069113260742858, 1.0913298407042913, 1.0628938743389342, 1.07841502322403, 1.053869199788243, 1.0797817910503775, 1.0875849710992151, 1.062123093539663, 1.0672083926873053, 1.112588633620053, 1.0603339315521907, 1.084449571239874, 1.0595716734203362, 1.0326175990757338, 1.0416593978590045, 1.0565563551659727, 1.0418708626210047, 1.0634468552999259, 1.04608813196107, 1.0275772790953113, 1.0248820827412548, 1.0420220926547896, 1.0290575275786673, 1.0811352832290049, 1.0823426108471321]\n"
     ]
    }
   ],
   "source": [
    "averagePercentChanges = []\n",
    "for comparison in comparisons:\n",
    "    averagePercentChanges.append(compare_results.calculateAverageChange(comparison))\n",
    "print(averagePercentChanges)"
   ]
  },
  {
   "cell_type": "code",
   "execution_count": 5,
   "id": "59b1126d",
   "metadata": {},
   "outputs": [
    {
     "data": {
      "image/png": "[encoded data removed]",
      "text/plain": [
       "<Figure size 432x288 with 1 Axes>"
      ]
     },
     "metadata": {
      "needs_background": "light"
     },
     "output_type": "display_data"
    }
   ],
   "source": [
    "%matplotlib inline\n",
    "pyplot.hist(averagePercentChanges, bins=10)\n",
    "pyplot.show()"
   ]
  }
 ],
 "metadata": {
  "interpreter": {
   "hash": "e7370f93d1d0cde622a1f8e1c04877d8463912d04d973331ad4851f04de6915a"
  },
  "kernelspec": {
   "display_name": "Python 3.10.4 64-bit",
   "language": "python",
   "name": "python3"
  },
  "language_info": {
   "codemirror_mode": {
    "name": "ipython",
    "version": 3
   },
   "file_extension": ".py",
   "mimetype": "text/x-python",
   "name": "python",
   "nbconvert_exporter": "python",
   "pygments_lexer": "ipython3",
   "version": "3.10.4"
  }
 },
 "nbformat": 4,
 "nbformat_minor": 5
}
