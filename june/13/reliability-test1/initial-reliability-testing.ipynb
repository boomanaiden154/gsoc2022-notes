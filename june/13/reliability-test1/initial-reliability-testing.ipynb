{
 "cells": [
  {
   "cell_type": "code",
   "execution_count": 1,
   "id": "1b4674c4",
   "metadata": {},
   "outputs": [],
   "source": [
    "import sys\n",
    "\n",
    "sys.path.insert(0, \"../../9\")\n",
    "\n",
    "import compare_results\n",
    "import process_execution_time_results\n",
    "\n",
    "from matplotlib import pyplot"
   ]
  },
  {
   "cell_type": "code",
   "execution_count": 2,
   "id": "62e616de",
   "metadata": {},
   "outputs": [
    {
     "name": "stdout",
     "output_type": "stream",
     "text": [
      "475\n",
      "475\n",
      "475\n",
      "475\n",
      "475\n",
      "475\n",
      "475\n",
      "475\n",
      "475\n",
      "475\n",
      "475\n",
      "475\n",
      "475\n",
      "475\n",
      "475\n",
      "475\n",
      "475\n",
      "475\n",
      "475\n",
      "475\n",
      "475\n",
      "475\n",
      "475\n",
      "475\n",
      "475\n",
      "475\n",
      "475\n",
      "475\n",
      "475\n",
      "475\n",
      "475\n"
     ]
    }
   ],
   "source": [
    "fileData = {}\n",
    "for i in range(0,31):\n",
    "    fileName = \"results\" + str(i) + \".json\"\n",
    "    fileData[fileName] = process_execution_time_results.getExecutionTimes(fileName)\n",
    "fileMaps = {}\n",
    "for file in fileData:\n",
    "    newMap = {}\n",
    "    for sample in fileData[file]:\n",
    "        testName, executionTime = sample\n",
    "        newMap[testName] = executionTime\n",
    "    fileMaps[file] = newMap"
   ]
  },
  {
   "cell_type": "code",
   "execution_count": 3,
   "id": "4cfcdd12",
   "metadata": {},
   "outputs": [],
   "source": [
    "comparisons = []\n",
    "baseFileName = \"results0.json\"\n",
    "for i in range(1,31):\n",
    "    fileName = \"results\" + str(i) + \".json\"\n",
    "    comparisons.append(compare_results.constructComparisons(fileMaps[baseFileName],fileMaps[fileName]))"
   ]
  },
  {
   "cell_type": "code",
   "execution_count": 4,
   "id": "8296a26c",
   "metadata": {},
   "outputs": [
    {
     "name": "stdout",
     "output_type": "stream",
     "text": [
      "[1.00820107560452, 1.0545007181333994, 0.9933648756392243, 1.0342730844648167, 1.015625234419001, 1.0277180982909127, 1.0196133260460414, 1.015670865157701, 1.0191973621696815, 1.0047379986479328, 1.0240262701911311, 1.0348563318088813, 1.0112845690235517, 1.045261134387798, 1.0392206113858333, 1.0515334556560898, 1.0241761490611165, 1.0182741954725192, 1.0192903958998483, 1.0134242550260248, 1.032674226484234, 1.0040450895420152, 1.0186902918332938, 0.9987736837999621, 1.0485278551006183, 1.0352421725763186, 1.0408602680834818, 1.0042225784582652, 1.0228702157231515, 1.0367623022549488]\n"
     ]
    }
   ],
   "source": [
    "averagePercentChanges = []\n",
    "for comparison in comparisons:\n",
    "    averagePercentChanges.append(compare_results.calculateAverageChange(comparison))\n",
    "print(averagePercentChanges)"
   ]
  },
  {
   "cell_type": "code",
   "execution_count": 5,
   "id": "59b1126d",
   "metadata": {},
   "outputs": [
    {
     "data": {
      "image/png": "[encoded data removed]",
      "text/plain": [
       "<Figure size 432x288 with 1 Axes>"
      ]
     },
     "metadata": {
      "needs_background": "light"
     },
     "output_type": "display_data"
    }
   ],
   "source": [
    "%matplotlib inline\n",
    "pyplot.hist(averagePercentChanges, bins=10)\n",
    "pyplot.show()"
   ]
  }
 ],
 "metadata": {
  "interpreter": {
   "hash": "e7370f93d1d0cde622a1f8e1c04877d8463912d04d973331ad4851f04de6915a"
  },
  "kernelspec": {
   "display_name": "Python 3.10.4 64-bit",
   "language": "python",
   "name": "python3"
  },
  "language_info": {
   "codemirror_mode": {
    "name": "ipython",
    "version": 3
   },
   "file_extension": ".py",
   "mimetype": "text/x-python",
   "name": "python",
   "nbconvert_exporter": "python",
   "pygments_lexer": "ipython3",
   "version": "3.10.4"
  }
 },
 "nbformat": 4,
 "nbformat_minor": 5
}
