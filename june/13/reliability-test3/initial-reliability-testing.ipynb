{
 "cells": [
  {
   "cell_type": "code",
   "execution_count": 1,
   "id": "1b4674c4",
   "metadata": {},
   "outputs": [],
   "source": [
    "import sys\n",
    "\n",
    "sys.path.insert(0, \"../../9\")\n",
    "\n",
    "import compare_results\n",
    "import process_execution_time_results\n",
    "\n",
    "from matplotlib import pyplot"
   ]
  },
  {
   "cell_type": "code",
   "execution_count": 2,
   "id": "62e616de",
   "metadata": {},
   "outputs": [],
   "source": [
    "fileData = {}\n",
    "for i in range(0,31):\n",
    "    fileName = \"results\" + str(i) + \".json\"\n",
    "    fileData[fileName] = process_execution_time_results.getExecutionTimes(fileName)\n",
    "fileMaps = {}\n",
    "for file in fileData:\n",
    "    newMap = {}\n",
    "    for sample in fileData[file]:\n",
    "        testName, executionTime = sample\n",
    "        newMap[testName] = executionTime\n",
    "    fileMaps[file] = newMap"
   ]
  },
  {
   "cell_type": "code",
   "execution_count": 3,
   "id": "4cfcdd12",
   "metadata": {},
   "outputs": [],
   "source": [
    "comparisons = []\n",
    "baseFileName = \"results0.json\"\n",
    "for i in range(1,31):\n",
    "    fileName = \"results\" + str(i) + \".json\"\n",
    "    comparisons.append(compare_results.constructComparisons(fileMaps[baseFileName],fileMaps[fileName]))"
   ]
  },
  {
   "cell_type": "code",
   "execution_count": 4,
   "id": "8296a26c",
   "metadata": {},
   "outputs": [
    {
     "name": "stdout",
     "output_type": "stream",
     "text": [
      "[1.0276351861572506, 0.9934510992266402, 1.0092895145827068, 0.9674558026850696, 1.0192094066951862, 1.0434004402749102, 1.001535345007554, 1.005291927217213, 1.0326627910882396, 0.9961333441617152, 1.0226826517944936, 1.0192524902971183, 1.0018145054142815, 0.9987269711804323, 1.01514282065024, 0.9897830341931136, 1.0086774767751736, 1.0317503856257693, 1.0037084609462283, 0.992666624445734, 1.0128984133846333, 1.0077565449738932, 1.0335363874874655, 0.9743841096186053, 1.0197613814536775, 1.0040213742992434, 1.0055722520098052, 1.0119047434288155, 1.0204442074346547, 1.0415227092208745]\n"
     ]
    }
   ],
   "source": [
    "averagePercentChanges = []\n",
    "for comparison in comparisons:\n",
    "    averagePercentChanges.append(compare_results.calculateAverageChange(comparison))\n",
    "print(averagePercentChanges)"
   ]
  },
  {
   "cell_type": "code",
   "execution_count": 5,
   "id": "59b1126d",
   "metadata": {},
   "outputs": [
    {
     "data": {
      "image/png": "[encoded data removed]",
      "text/plain": [
       "<Figure size 432x288 with 1 Axes>"
      ]
     },
     "metadata": {
      "needs_background": "light"
     },
     "output_type": "display_data"
    }
   ],
   "source": [
    "%matplotlib inline\n",
    "pyplot.hist(averagePercentChanges, bins=10)\n",
    "pyplot.show()"
   ]
  },
  {
   "cell_type": "code",
   "execution_count": 6,
   "id": "fd1f75ef",
   "metadata": {},
   "outputs": [
    {
     "name": "stdout",
     "output_type": "stream",
     "text": [
      "1.0104024133910243\n"
     ]
    }
   ],
   "source": [
    "print(sum(averagePercentChanges)/len(averagePercentChanges))"
   ]
  }
 ],
 "metadata": {
  "interpreter": {
   "hash": "e7370f93d1d0cde622a1f8e1c04877d8463912d04d973331ad4851f04de6915a"
  },
  "kernelspec": {
   "display_name": "Python 3.10.4 64-bit",
   "language": "python",
   "name": "python3"
  },
  "language_info": {
   "codemirror_mode": {
    "name": "ipython",
    "version": 3
   },
   "file_extension": ".py",
   "mimetype": "text/x-python",
   "name": "python",
   "nbconvert_exporter": "python",
   "pygments_lexer": "ipython3",
   "version": "3.10.4"
  }
 },
 "nbformat": 4,
 "nbformat_minor": 5
}
