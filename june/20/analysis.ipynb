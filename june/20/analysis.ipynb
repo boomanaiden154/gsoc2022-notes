{
 "cells": [
  {
   "cell_type": "code",
   "execution_count": 2,
   "metadata": {},
   "outputs": [],
   "source": [
    "import sys\n",
    "\n",
    "sys.path.insert(0, \"../9\")\n",
    "sys.path.insert(0, \"../15\")\n",
    "\n",
    "import compare_results\n",
    "import load_benchmarks\n",
    "\n",
    "from matplotlib import pyplot"
   ]
  },
  {
   "cell_type": "code",
   "execution_count": 17,
   "metadata": {},
   "outputs": [],
   "source": [
    "fileMaps = {}\n",
    "files = [\"output-baseline.json\", \"output.json\"]\n",
    "parametersOfInterest = [\"instructions\",\"loads\",\"stores\"]\n",
    "for POI in parametersOfInterest:\n",
    "    fileMaps[POI] = {}\n",
    "    for file in files:\n",
    "        fileMaps[POI][file] = load_benchmarks.getResultMap(load_benchmarks.loadBenchmark(file), POI)"
   ]
  },
  {
   "cell_type": "markdown",
   "metadata": {},
   "source": [
    "# Baseline compared to today's regalloc model\n",
    "Displays comparisons relating the current baseline and the current regalloc model."
   ]
  },
  {
   "cell_type": "code",
   "execution_count": 18,
   "metadata": {},
   "outputs": [],
   "source": [
    "comparison1File1 = \"output-baseline.json\"\n",
    "comparison1File2 = \"output.json\"\n",
    "comparisonsRawBaselineCurrent = {\n",
    "    \"instructions\": compare_results.constructComparisons(fileMaps[\"instructions\"][comparison1File1], fileMaps[\"instructions\"][comparison1File2]),\n",
    "    \"stores\": compare_results.constructComparisons(fileMaps[\"stores\"][comparison1File1], fileMaps[\"stores\"][comparison1File2]),\n",
    "    \"loads\": compare_results.constructComparisons(fileMaps[\"loads\"][comparison1File1], fileMaps[\"loads\"][comparison1File2]),\n",
    "}"
   ]
  },
  {
   "cell_type": "code",
   "execution_count": 19,
   "metadata": {},
   "outputs": [
    {
     "name": "stdout",
     "output_type": "stream",
     "text": [
      "{'instructions': 1.0068651241299986, 'stores': 1.0501837898746271, 'loads': 1.0058466182731602}\n"
     ]
    }
   ],
   "source": [
    "comparisonsBaselineCurrent = {\n",
    "    \"instructions\": compare_results.calculateAverageChange(comparisonsRawBaselineCurrent[\"instructions\"]),\n",
    "    \"stores\": compare_results.calculateAverageChange(comparisonsRawBaselineCurrent[\"stores\"]),\n",
    "    \"loads\": compare_results.calculateAverageChange(comparisonsRawBaselineCurrent[\"loads\"])\n",
    "}\n",
    "print(comparisonsBaselineCurrent)"
   ]
  }
 ],
 "metadata": {
  "interpreter": {
   "hash": "e7370f93d1d0cde622a1f8e1c04877d8463912d04d973331ad4851f04de6915a"
  },
  "kernelspec": {
   "display_name": "Python 3.10.4 64-bit",
   "language": "python",
   "name": "python3"
  },
  "language_info": {
   "codemirror_mode": {
    "name": "ipython",
    "version": 3
   },
   "file_extension": ".py",
   "mimetype": "text/x-python",
   "name": "python",
   "nbconvert_exporter": "python",
   "pygments_lexer": "ipython3",
   "version": "3.10.5"
  },
  "orig_nbformat": 4
 },
 "nbformat": 4,
 "nbformat_minor": 2
}
