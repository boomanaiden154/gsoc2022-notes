{
 "cells": [
  {
   "cell_type": "code",
   "execution_count": 2,
   "metadata": {},
   "outputs": [],
   "source": [
    "import sys\n",
    "\n",
    "sys.path.insert(0, \"../9\")\n",
    "\n",
    "import compare_results\n",
    "import load_benchmarks\n",
    "\n",
    "from matplotlib import pyplot"
   ]
  },
  {
   "cell_type": "code",
   "execution_count": 27,
   "metadata": {},
   "outputs": [],
   "source": [
    "\n",
    "fileMaps = {}\n",
    "files = [\"output-baseline-o2.json\", \"output-regalloc-current-o2.json\", \"output-regalloc-new.json\",\"output-baseline.json\", \"output-regalloc-current.json\", \"output-regalloc-current2.json\", \"output-baseline-pgo.json\", \"output-regalloc-current-pgo.json\", \"output-regalloc-new-pgo.json\"]\n",
    "parametersOfInterest = [\"instructions\",\"loads\",\"stores\"]\n",
    "for POI in parametersOfInterest:\n",
    "    fileMaps[POI] = {}\n",
    "    for file in files:\n",
    "        fileMaps[POI][file] = load_benchmarks.getResultMap(load_benchmarks.loadBenchmark(file), POI)"
   ]
  },
  {
   "cell_type": "markdown",
   "metadata": {},
   "source": [
    "### Baseline compared to current regalloc model(v1.0)\n",
    "Below code generates and displays comparisons between the current baseline with the greedy register allocator and the current regalloc model."
   ]
  },
  {
   "cell_type": "code",
   "execution_count": 34,
   "metadata": {},
   "outputs": [],
   "source": [
    "comparison1File1 = \"output-baseline-pgo.json\"\n",
    "comparison1File2 = \"output-regalloc-current-pgo.json\"\n",
    "comparisonsRawBaselineCurrent = {\n",
    "    \"instructions\": compare_results.constructComparisons(fileMaps[\"instructions\"][comparison1File1], fileMaps[\"instructions\"][comparison1File2]),\n",
    "    \"stores\": compare_results.constructComparisons(fileMaps[\"stores\"][comparison1File1], fileMaps[\"stores\"][comparison1File2]),\n",
    "    \"loads\": compare_results.constructComparisons(fileMaps[\"loads\"][comparison1File1], fileMaps[\"loads\"][comparison1File2]),\n",
    "}"
   ]
  },
  {
   "cell_type": "code",
   "execution_count": 35,
   "metadata": {},
   "outputs": [
    {
     "name": "stdout",
     "output_type": "stream",
     "text": [
      "{'instructions': 1.0041677413641328, 'stores': 1.052230249350702, 'loads': 0.9968193344140426}\n"
     ]
    }
   ],
   "source": [
    "comparisonsBaselineCurrent = {\n",
    "    \"instructions\": compare_results.calculateAverageChange(comparisonsRawBaselineCurrent[\"instructions\"]),\n",
    "    \"stores\": compare_results.calculateAverageChange(comparisonsRawBaselineCurrent[\"stores\"]),\n",
    "    \"loads\": compare_results.calculateAverageChange(comparisonsRawBaselineCurrent[\"loads\"])\n",
    "}\n",
    "print(comparisonsBaselineCurrent)"
   ]
  },
  {
   "cell_type": "markdown",
   "metadata": {},
   "source": [
    "### Baseline compared to new regalloc model"
   ]
  },
  {
   "cell_type": "code",
   "execution_count": 62,
   "metadata": {},
   "outputs": [],
   "source": [
    "comparison2File1 = \"output-baseline-pgo.json\"\n",
    "comparison2File2 = \"output-regalloc-new-pgo.json\"\n",
    "comparisonsRawCurrentNew = {\n",
    "    \"instructions\": compare_results.constructComparisons(fileMaps[\"instructions\"][comparison2File1], fileMaps[\"instructions\"][comparison2File2]),\n",
    "    \"stores\": compare_results.constructComparisons(fileMaps[\"stores\"][comparison2File1], fileMaps[\"stores\"][comparison2File2]),\n",
    "    \"loads\": compare_results.constructComparisons(fileMaps[\"loads\"][comparison2File1], fileMaps[\"loads\"][comparison2File2]),\n",
    "}"
   ]
  },
  {
   "cell_type": "code",
   "execution_count": 63,
   "metadata": {},
   "outputs": [
    {
     "name": "stdout",
     "output_type": "stream",
     "text": [
      "{'instructions': 1.0041667662923814, 'stores': 1.027570419832269, 'loads': 1.0012154386999157}\n"
     ]
    }
   ],
   "source": [
    "comparisonsCurrentNew = {\n",
    "    \"instructions\": compare_results.calculateAverageChange(comparisonsRawCurrentNew[\"instructions\"]),\n",
    "    \"stores\": compare_results.calculateAverageChange(comparisonsRawCurrentNew[\"stores\"]),\n",
    "    \"loads\": compare_results.calculateAverageChange(comparisonsRawCurrentNew[\"loads\"])\n",
    "}\n",
    "print(comparisonsCurrentNew)"
   ]
  }
 ],
 "metadata": {
  "interpreter": {
   "hash": "e7370f93d1d0cde622a1f8e1c04877d8463912d04d973331ad4851f04de6915a"
  },
  "kernelspec": {
   "display_name": "Python 3.10.4 64-bit",
   "language": "python",
   "name": "python3"
  },
  "language_info": {
   "codemirror_mode": {
    "name": "ipython",
    "version": 3
   },
   "file_extension": ".py",
   "mimetype": "text/x-python",
   "name": "python",
   "nbconvert_exporter": "python",
   "pygments_lexer": "ipython3",
   "version": "3.10.4"
  },
  "orig_nbformat": 4
 },
 "nbformat": 4,
 "nbformat_minor": 2
}
