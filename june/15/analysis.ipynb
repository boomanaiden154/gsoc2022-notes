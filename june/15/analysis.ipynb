{
 "cells": [
  {
   "cell_type": "code",
   "execution_count": 2,
   "metadata": {},
   "outputs": [],
   "source": [
    "import sys\n",
    "\n",
    "sys.path.insert(0, \"../9\")\n",
    "\n",
    "import compare_results\n",
    "import load_benchmarks\n",
    "\n",
    "from matplotlib import pyplot"
   ]
  },
  {
   "cell_type": "code",
   "execution_count": 3,
   "metadata": {},
   "outputs": [],
   "source": [
    "\n",
    "fileMaps = {}\n",
    "files = [\"output-baseline-o2.json\", \"output-regalloc-current-o2.json\", \"output-regalloc-new.json\",\"output-baseline.json\", \"output-regalloc-current.json\", \"output-regalloc-current2.json\", \"output-baseline-pgo.json\", \"output-regalloc-current-pgo.json\", \"output-regalloc-new-pgo.json\"]\n",
    "parametersOfInterest = [\"instructions\",\"loads\",\"stores\"]\n",
    "for POI in parametersOfInterest:\n",
    "    fileMaps[POI] = {}\n",
    "    for file in files:\n",
    "        fileMaps[POI][file] = load_benchmarks.getResultMap(load_benchmarks.loadBenchmark(file), POI)"
   ]
  },
  {
   "cell_type": "markdown",
   "metadata": {},
   "source": [
    "### Baseline compared to current regalloc model(v1.0)\n",
    "Below code generates and displays comparisons between the current baseline with the greedy register allocator and the current regalloc model."
   ]
  },
  {
   "cell_type": "code",
   "execution_count": 4,
   "metadata": {},
   "outputs": [],
   "source": [
    "comparison1File1 = \"output-baseline-pgo.json\"\n",
    "comparison1File2 = \"output-regalloc-current-pgo.json\"\n",
    "comparisonsRawBaselineCurrent = {\n",
    "    \"instructions\": compare_results.constructComparisons(fileMaps[\"instructions\"][comparison1File1], fileMaps[\"instructions\"][comparison1File2]),\n",
    "    \"stores\": compare_results.constructComparisons(fileMaps[\"stores\"][comparison1File1], fileMaps[\"stores\"][comparison1File2]),\n",
    "    \"loads\": compare_results.constructComparisons(fileMaps[\"loads\"][comparison1File1], fileMaps[\"loads\"][comparison1File2]),\n",
    "}"
   ]
  },
  {
   "cell_type": "code",
   "execution_count": 5,
   "metadata": {},
   "outputs": [
    {
     "name": "stdout",
     "output_type": "stream",
     "text": [
      "{'instructions': 1.003799466906315, 'stores': 1.02758963630486, 'loads': 0.9964554381957628}\n"
     ]
    }
   ],
   "source": [
    "comparisonsBaselineCurrent = {\n",
    "    \"instructions\": compare_results.calculateAverageChange(comparisonsRawBaselineCurrent[\"instructions\"]),\n",
    "    \"stores\": compare_results.calculateAverageChange(comparisonsRawBaselineCurrent[\"stores\"]),\n",
    "    \"loads\": compare_results.calculateAverageChange(comparisonsRawBaselineCurrent[\"loads\"])\n",
    "}\n",
    "print(comparisonsBaselineCurrent)"
   ]
  },
  {
   "cell_type": "markdown",
   "metadata": {},
   "source": [
    "### Baseline compared to new regalloc model"
   ]
  },
  {
   "cell_type": "code",
   "execution_count": 6,
   "metadata": {},
   "outputs": [],
   "source": [
    "comparison2File1 = \"output-baseline-pgo.json\"\n",
    "comparison2File2 = \"output-regalloc-new-pgo.json\"\n",
    "comparisonsRawCurrentNew = {\n",
    "    \"instructions\": compare_results.constructComparisons(fileMaps[\"instructions\"][comparison2File1], fileMaps[\"instructions\"][comparison2File2]),\n",
    "    \"stores\": compare_results.constructComparisons(fileMaps[\"stores\"][comparison2File1], fileMaps[\"stores\"][comparison2File2]),\n",
    "    \"loads\": compare_results.constructComparisons(fileMaps[\"loads\"][comparison2File1], fileMaps[\"loads\"][comparison2File2]),\n",
    "}"
   ]
  },
  {
   "cell_type": "code",
   "execution_count": 7,
   "metadata": {},
   "outputs": [
    {
     "name": "stdout",
     "output_type": "stream",
     "text": [
      "{'instructions': 1.0038635324303797, 'stores': 1.0212749772732157, 'loads': 0.9998388248242855}\n"
     ]
    }
   ],
   "source": [
    "comparisonsCurrentNew = {\n",
    "    \"instructions\": compare_results.calculateAverageChange(comparisonsRawCurrentNew[\"instructions\"]),\n",
    "    \"stores\": compare_results.calculateAverageChange(comparisonsRawCurrentNew[\"stores\"]),\n",
    "    \"loads\": compare_results.calculateAverageChange(comparisonsRawCurrentNew[\"loads\"])\n",
    "}\n",
    "print(comparisonsCurrentNew)"
   ]
  }
 ],
 "metadata": {
  "interpreter": {
   "hash": "767d51c1340bd893661ea55ea3124f6de3c7a262a8b4abca0554b478b1e2ff90"
  },
  "kernelspec": {
   "display_name": "Python 3.10.4 64-bit",
   "language": "python",
   "name": "python3"
  },
  "language_info": {
   "codemirror_mode": {
    "name": "ipython",
    "version": 3
   },
   "file_extension": ".py",
   "mimetype": "text/x-python",
   "name": "python",
   "nbconvert_exporter": "python",
   "pygments_lexer": "ipython3",
   "version": "3.9.9"
  },
  "orig_nbformat": 4
 },
 "nbformat": 4,
 "nbformat_minor": 2
}
