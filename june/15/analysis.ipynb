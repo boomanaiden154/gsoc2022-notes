{
 "cells": [
  {
   "cell_type": "code",
   "execution_count": 27,
   "metadata": {},
   "outputs": [],
   "source": [
    "import sys\n",
    "\n",
    "sys.path.insert(0, \"../9\")\n",
    "\n",
    "import compare_results\n",
    "import load_benchmarks\n",
    "\n",
    "from matplotlib import pyplot"
   ]
  },
  {
   "cell_type": "code",
   "execution_count": 46,
   "metadata": {},
   "outputs": [],
   "source": [
    "\n",
    "fileMaps = {}\n",
    "files = [\"output-baseline-o2.json\", \"output-regalloc-current-o2.json\", \"output-regalloc-new.json\",\"output-baseline.json\", \"output-regalloc-current.json\", \"output-regalloc-current2.json\"]\n",
    "parametersOfInterest = [\"instructions\",\"loads\",\"stores\"]\n",
    "for POI in parametersOfInterest:\n",
    "    fileMaps[POI] = {}\n",
    "    for file in files:\n",
    "        fileMaps[POI][file] = load_benchmarks.getResultMap(load_benchmarks.loadBenchmark(file), POI)"
   ]
  },
  {
   "cell_type": "markdown",
   "metadata": {},
   "source": [
    "### Baseline compared to current regalloc model(v1.0)\n",
    "Below code generates and displays comparisons between the current baseline with the greedy register allocator and the current regalloc model."
   ]
  },
  {
   "cell_type": "code",
   "execution_count": 47,
   "metadata": {},
   "outputs": [],
   "source": [
    "comparisonsRawBaselineCurrent = {\n",
    "    \"instructions\": compare_results.constructComparisons(fileMaps[\"instructions\"][\"output-baseline.json\"], fileMaps[\"instructions\"][\"output-regalloc-current2.json\"]),\n",
    "    \"stores\": compare_results.constructComparisons(fileMaps[\"stores\"][\"output-baseline.json\"], fileMaps[\"stores\"][\"output-regalloc-current.json\"]),\n",
    "    \"loads\": compare_results.constructComparisons(fileMaps[\"loads\"][\"output-baseline.json\"], fileMaps[\"loads\"][\"output-regalloc-current.json\"]),\n",
    "}"
   ]
  },
  {
   "cell_type": "code",
   "execution_count": 48,
   "metadata": {},
   "outputs": [
    {
     "name": "stdout",
     "output_type": "stream",
     "text": [
      "{'instructions': 1.004289735533283, 'stores': 1.0529000617386088, 'loads': 0.9991692963945964}\n"
     ]
    }
   ],
   "source": [
    "comparisonsBaselineCurrent = {\n",
    "    \"instructions\": compare_results.calculateAverageChange(comparisonsRawBaselineCurrent[\"instructions\"]),\n",
    "    \"stores\": compare_results.calculateAverageChange(comparisonsRawBaselineCurrent[\"stores\"]),\n",
    "    \"loads\": compare_results.calculateAverageChange(comparisonsRawBaselineCurrent[\"loads\"])\n",
    "}\n",
    "print(comparisonsBaselineCurrent)"
   ]
  },
  {
   "cell_type": "markdown",
   "metadata": {},
   "source": [
    "### Baseline compared to new regalloc model"
   ]
  },
  {
   "cell_type": "code",
   "execution_count": 49,
   "metadata": {},
   "outputs": [],
   "source": [
    "comparisonsRawCurrentNew = {\n",
    "    \"instructions\": compare_results.constructComparisons(fileMaps[\"instructions\"][\"output-baseline.json\"], fileMaps[\"instructions\"][\"output-regalloc-new.json\"]),\n",
    "    \"stores\": compare_results.constructComparisons(fileMaps[\"stores\"][\"output-baseline.json\"], fileMaps[\"stores\"][\"output-regalloc-new.json\"]),\n",
    "    \"loads\": compare_results.constructComparisons(fileMaps[\"loads\"][\"output-baseline.json\"], fileMaps[\"loads\"][\"output-regalloc-new.json\"]),\n",
    "}"
   ]
  },
  {
   "cell_type": "code",
   "execution_count": 50,
   "metadata": {},
   "outputs": [
    {
     "name": "stdout",
     "output_type": "stream",
     "text": [
      "{'instructions': 1.0035187745196907, 'stores': 1.0795486589471068, 'loads': 1.0053099791804234}\n"
     ]
    }
   ],
   "source": [
    "comparisonsCurrentNew = {\n",
    "    \"instructions\": compare_results.calculateAverageChange(comparisonsRawCurrentNew[\"instructions\"]),\n",
    "    \"stores\": compare_results.calculateAverageChange(comparisonsRawCurrentNew[\"stores\"]),\n",
    "    \"loads\": compare_results.calculateAverageChange(comparisonsRawCurrentNew[\"loads\"])\n",
    "}\n",
    "print(comparisonsCurrentNew)"
   ]
  }
 ],
 "metadata": {
  "interpreter": {
   "hash": "e7370f93d1d0cde622a1f8e1c04877d8463912d04d973331ad4851f04de6915a"
  },
  "kernelspec": {
   "display_name": "Python 3.10.4 64-bit",
   "language": "python",
   "name": "python3"
  },
  "language_info": {
   "codemirror_mode": {
    "name": "ipython",
    "version": 3
   },
   "file_extension": ".py",
   "mimetype": "text/x-python",
   "name": "python",
   "nbconvert_exporter": "python",
   "pygments_lexer": "ipython3",
   "version": "3.10.4"
  },
  "orig_nbformat": 4
 },
 "nbformat": 4,
 "nbformat_minor": 2
}
