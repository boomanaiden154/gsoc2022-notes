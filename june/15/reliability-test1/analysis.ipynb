{
 "cells": [
  {
   "cell_type": "code",
   "execution_count": 9,
   "metadata": {},
   "outputs": [],
   "source": [
    "import sys\n",
    "\n",
    "sys.path.insert(0, \"../../9\")\n",
    "sys.path.insert(0, \"../\")\n",
    "\n",
    "import compare_results\n",
    "import load_benchmarks\n",
    "\n",
    "from matplotlib import pyplot"
   ]
  },
  {
   "cell_type": "code",
   "execution_count": 16,
   "metadata": {},
   "outputs": [],
   "source": [
    "fileMaps = {}\n",
    "for i in range(0,31):\n",
    "    fileName = \"output\" + str(i) + \".json\"\n",
    "    fileMaps[fileName] = load_benchmarks.getResultMap(load_benchmarks.loadBenchmark(fileName),\"stores\")"
   ]
  },
  {
   "cell_type": "code",
   "execution_count": 17,
   "metadata": {},
   "outputs": [],
   "source": [
    "comparisons = []\n",
    "baseFileName = \"output0.json\"\n",
    "for i in range(1,31):\n",
    "    fileName = \"output\" + str(i) + \".json\"\n",
    "    comparisons.append(compare_results.constructComparisons(fileMaps[baseFileName], fileMaps[fileName]))"
   ]
  },
  {
   "cell_type": "code",
   "execution_count": 18,
   "metadata": {},
   "outputs": [
    {
     "name": "stdout",
     "output_type": "stream",
     "text": [
      "[0.9999999585791784, 1.0000011624995266, 1.0000002077971872, 1.000000145656589, 1.0000009859613974, 0.9999999093500543, 1.000000271002285, 0.9999999509536708, 0.9999998328192751, 1.0000012041160737, 0.999999874979668, 1.000000151050521, 0.9999999750212559, 1.0000009380774528, 1.000000929322232, 1.00000022266447, 1.0000007800896031, 0.9999998717522397, 1.0000004018552207, 1.000000050993033, 1.0000001922711363, 1.0000002241399575, 0.9999998384219478, 0.999999992179278, 1.000000195344193, 1.0000000376027387, 1.0000001195450847, 1.000000135944929, 1.000000160976936, 0.9999999650408136]\n"
     ]
    }
   ],
   "source": [
    "averagePercentChanges = []\n",
    "for comparison in comparisons:\n",
    "    averagePercentChanges.append(compare_results.calculateAverageChange(comparison))\n",
    "print(averagePercentChanges)"
   ]
  },
  {
   "cell_type": "code",
   "execution_count": 19,
   "metadata": {},
   "outputs": [
    {
     "data": {
      "image/png": "[encoded data removed]",
      "text/plain": [
       "<Figure size 432x288 with 1 Axes>"
      ]
     },
     "metadata": {
      "needs_background": "light"
     },
     "output_type": "display_data"
    }
   ],
   "source": [
    "%matplotlib inline\n",
    "pyplot.boxplot(averagePercentChanges)\n",
    "pyplot.show()"
   ]
  }
 ],
 "metadata": {
  "interpreter": {
   "hash": "e7370f93d1d0cde622a1f8e1c04877d8463912d04d973331ad4851f04de6915a"
  },
  "kernelspec": {
   "display_name": "Python 3.10.4 64-bit",
   "language": "python",
   "name": "python3"
  },
  "language_info": {
   "codemirror_mode": {
    "name": "ipython",
    "version": 3
   },
   "file_extension": ".py",
   "mimetype": "text/x-python",
   "name": "python",
   "nbconvert_exporter": "python",
   "pygments_lexer": "ipython3",
   "version": "3.10.4"
  },
  "orig_nbformat": 4
 },
 "nbformat": 4,
 "nbformat_minor": 2
}
