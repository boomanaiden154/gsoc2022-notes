{
 "cells": [
  {
   "cell_type": "code",
   "execution_count": 1,
   "id": "1b4674c4",
   "metadata": {},
   "outputs": [],
   "source": [
    "import sys\n",
    "\n",
    "sys.path.insert(0, \"../9\")\n",
    "\n",
    "import compare_results\n",
    "import process_execution_time_results"
   ]
  },
  {
   "cell_type": "code",
   "execution_count": 2,
   "id": "62e616de",
   "metadata": {},
   "outputs": [
    {
     "name": "stdout",
     "output_type": "stream",
     "text": [
      "475\n",
      "475\n",
      "475\n",
      "475\n",
      "475\n",
      "475\n",
      "475\n",
      "475\n",
      "475\n",
      "475\n"
     ]
    }
   ],
   "source": [
    "fileData = {}\n",
    "for i in range(0,10):\n",
    "    fileName = \"reliability-test\" + str(i) + \".json\"\n",
    "    fileData[fileName] = process_execution_time_results.getExecutionTimes(fileName)\n",
    "fileMaps = {}\n",
    "for file in fileData:\n",
    "    newMap = {}\n",
    "    for sample in fileData[file]:\n",
    "        testName, executionTime = sample\n",
    "        newMap[testName] = executionTime\n",
    "    fileMaps[file] = newMap"
   ]
  },
  {
   "cell_type": "code",
   "execution_count": 3,
   "id": "4cfcdd12",
   "metadata": {},
   "outputs": [],
   "source": [
    "comparisons = []\n",
    "baseFileName = \"reliability-test0.json\"\n",
    "for i in range(1,10):\n",
    "    fileName = \"reliability-test\" + str(i) + \".json\"\n",
    "    comparisons.append(compare_results.constructComparisons(fileMaps[baseFileName],fileMaps[fileName]))"
   ]
  },
  {
   "cell_type": "code",
   "execution_count": 4,
   "id": "8296a26c",
   "metadata": {},
   "outputs": [
    {
     "name": "stdout",
     "output_type": "stream",
     "text": [
      "[0.9588506541934237, 0.9896207113878973, 1.0360613610902234, 0.9952384843788452, 1.0026615991913888, 1.0200473661977258, 1.0156920270793395, 0.9994349707227319, 0.9922893910113879]\n"
     ]
    }
   ],
   "source": [
    "averagePercentChanges = []\n",
    "for comparison in comparisons:\n",
    "    averagePercentChanges.append(compare_results.calculateAverageChange(comparison))\n",
    "print(averagePercentChanges)"
   ]
  },
  {
   "cell_type": "code",
   "execution_count": null,
   "id": "3b367658",
   "metadata": {},
   "outputs": [],
   "source": []
  }
 ],
 "metadata": {
  "interpreter": {
   "hash": "e7370f93d1d0cde622a1f8e1c04877d8463912d04d973331ad4851f04de6915a"
  },
  "kernelspec": {
   "display_name": "Python 3 (ipykernel)",
   "language": "python",
   "name": "python3"
  },
  "language_info": {
   "codemirror_mode": {
    "name": "ipython",
    "version": 3
   },
   "file_extension": ".py",
   "mimetype": "text/x-python",
   "name": "python",
   "nbconvert_exporter": "python",
   "pygments_lexer": "ipython3",
   "version": "3.10.4"
  }
 },
 "nbformat": 4,
 "nbformat_minor": 5
}
